{
  "nbformat": 4,
  "nbformat_minor": 0,
  "metadata": {
    "colab": {
      "name": "Untitled35.ipynb",
      "provenance": [],
      "collapsed_sections": [],
      "authorship_tag": "ABX9TyM2SuceFZJ92liSk9ipu5pa",
      "include_colab_link": true
    },
    "kernelspec": {
      "name": "python3",
      "display_name": "Python 3"
    }
  },
  "cells": [
    {
      "cell_type": "markdown",
      "metadata": {
        "id": "view-in-github",
        "colab_type": "text"
      },
      "source": [
        "<a href=\"https://colab.research.google.com/github/anjomnouranika/summ/blob/master/Untitled35.ipynb\" target=\"_parent\"><img src=\"https://colab.research.google.com/assets/colab-badge.svg\" alt=\"Open In Colab\"/></a>"
      ]
    },
    {
      "cell_type": "code",
      "metadata": {
        "id": "_N3KEVsBa9RD",
        "colab_type": "code",
        "colab": {
          "base_uri": "https://localhost:8080/",
          "height": 72
        },
        "outputId": "9baa0e74-424b-469e-846d-0c2e7be23bed"
      },
      "source": [
        "number = int(input(\"\"))\n",
        "sum = 0\n",
        "while (number >  0):\n",
        "  num = number % 10\n",
        "  sum = sum + num\n",
        "  number = number // 10\n",
        "print(\"\\n Sum of the digits of Given Number = %d\" %sum) "
      ],
      "execution_count": 10,
      "outputs": [
        {
          "output_type": "stream",
          "text": [
            "123\n",
            "\n",
            " Sum of the digits of Given Number = 6\n"
          ],
          "name": "stdout"
        }
      ]
    },
    {
      "cell_type": "code",
      "metadata": {
        "id": "-rLmC4Z-d7Ik",
        "colab_type": "code",
        "colab": {
          "base_uri": "https://localhost:8080/",
          "height": 54
        },
        "outputId": "dba83e7b-820e-4a16-81b8-9e6272041e2f"
      },
      "source": [
        "num = int(input(\"Input a number: \"))\n",
        " \n",
        "#Initialize sum with 0\n",
        "sum =0\n",
        " \n",
        "#Loop through the digits until the number reduces to 0\n",
        "while num>0:\n",
        "    sum = sum + num%10\n",
        "    num = num//10\n",
        "    \n",
        "print(\"Sum of the digits: \",sum)"
      ],
      "execution_count": 6,
      "outputs": [
        {
          "output_type": "stream",
          "text": [
            "Input a number: 123\n",
            "Sum of the digits:  6\n"
          ],
          "name": "stdout"
        }
      ]
    }
  ]
}